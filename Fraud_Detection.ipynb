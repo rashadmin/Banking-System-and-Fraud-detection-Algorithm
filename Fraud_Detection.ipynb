{
 "cells": [
  {
   "cell_type": "markdown",
   "id": "6dec910b-0599-45ce-8722-0e85df9fcac6",
   "metadata": {},
   "source": [
    "# BANKING SYSTEM WITH FRAUD DETECTION ALGORITHM"
   ]
  },
  {
   "cell_type": "code",
   "execution_count": null,
   "id": "ba77fb99-68ba-40e0-a5bc-eb58a4fb946c",
   "metadata": {},
   "outputs": [],
   "source": []
  },
  {
   "cell_type": "code",
   "execution_count": 18,
   "id": "7bcb262b-9111-4044-ba9f-463bf55a8137",
   "metadata": {},
   "outputs": [],
   "source": [
    "#Create a Bank Account class that initializes the personal details of the Bank Account Owner\n",
    "class BankAccount:\n",
    "    def __init__(self, first_name, last_name,middle_name,age,gender,pin,confirm_pin):\n",
    "        self.first_name = first_name\n",
    "        self.last_name = last_name\n",
    "        self.middle_name =middle_name\n",
    "        self.age = age\n",
    "        self.agender = gender\n",
    "        self.pin = pin\n",
    "        self.confirm_pin = confirm_pin\n",
    "        self.account_balance = 0\n",
    "        self.transaction = []\n",
    "#Returns a string that specifies the Bank Account Name,Account Balance and the Withdrawals made from the account  \n",
    "    def __repr__(self):\n",
    "        return f\" {self.first_name} -Account Balance-- {str(self.account_balance)}, Withdrawals - {str(self.transaction)}\"\n",
    "#A method that adds the amount to be deposited to the main account balance\n",
    "    def deposit(self, amount):\n",
    "        self.account_balance += float(amount)\n",
    "# A method that withdraw specified amount from the main balance and also appends to the list of transaction that has been made\n",
    "    def withdraw(self, amount):\n",
    "        self.account_balance -= float(amount)\n",
    "        self.transaction.append(amount)\n",
    "# A method that gets the balance of the Bank Account User        \n",
    "    def get_balance(self):\n",
    "        return self.account_balance\n",
    "    \n",
    "#Sort the given list and Check for the median\n",
    "# A function that takes a lists and returns the median by sorting the list using O(n) complexity and \n",
    "# return the middle number if len of lists is odd and average of the two middle Number if Even\n",
    "\n",
    "    def sort_median(self,lists):\n",
    "        max_element = int(max(lists))\n",
    "        bucket = [0 for i in range(max_element+1)]\n",
    "    \n",
    "        for element in lists:\n",
    "            bucket[int(element)]+=1\n",
    "        sorted_list = []\n",
    "        for idx,count in enumerate(bucket):\n",
    "            sorted_list.extend([idx]*count)\n",
    "        length = len(sorted_list)\n",
    "        if length%2 ==0:\n",
    "            low_index = (length//2)-1\n",
    "            upper_index = (length//2)\n",
    "            low,upper = sorted_list[low_index],sorted_list[upper_index]\n",
    "            mid_element = (low+upper)/2\n",
    "            return mid_element\n",
    "        else:\n",
    "            index = length//2\n",
    "            return sorted_list[index]\n",
    "        return sorted_list\n",
    "    \n",
    "#A method given the number of trailing days  and a client's total daily expenditures for a period of  days, \n",
    "#Determine the number of times the client will receive a Fradulent Alert  over all  days.\n",
    "\n",
    "    def fraudulent_alert(self,lists):    \n",
    "        length_of_trailing_days = 3\n",
    "        length = len(lists)\n",
    "        count = 0\n",
    "        transaction = []\n",
    "        for idx in range(1,length+1):\n",
    "            if idx <= length_of_trailing_days:\n",
    "                pass\n",
    "            else:\n",
    "                cut_list = lists[:idx]\n",
    "                length = len(cut_list)\n",
    "                low_index = length-length_of_trailing_days\n",
    "                new_list = cut_list[low_index-1:length-1]\n",
    "                median = self.sort_median(new_list)\n",
    "                if median < lists[idx-1]:\n",
    "                    count+=1\n",
    "                    transaction.append(lists[idx-1])\n",
    "        return (count,transaction)"
   ]
  },
  {
   "cell_type": "code",
   "execution_count": 19,
   "id": "bed2771e-5f20-4655-bf6c-774bc9e71cb4",
   "metadata": {},
   "outputs": [],
   "source": [
    "class Bank:\n",
    "    def __init__(self):\n",
    "        self.accounts = {}\n",
    "    # Available operations\n",
    "    def bank_operations(self):\n",
    "        option = None\n",
    "        while option != \"5\":\n",
    "            print(' 1. Create an Account \\n','2. Deposits \\n','3. Withdrawals \\n','4. Get balance\\n','5. Exit \\n','6. Fraud Check \\n')\n",
    "            print(self.accounts)\n",
    "            option = input(\"Enter option:\")\n",
    "            if option == \"1\":\n",
    "                print(\"Create account!!\")\n",
    "                self.create_account()\n",
    "            elif option == \"2\":\n",
    "                self.deposit()\n",
    "            elif option == \"4\":\n",
    "                account_num = input(\"Enter account number:\")\n",
    "                account = self.accounts[account_num]\n",
    "                print(f\"Your balance is ${account.get_balance():.2f}\")\n",
    "            elif option == \"3\":\n",
    "                self.withdraw()\n",
    "            elif option == \"6\":\n",
    "                print(f'\\n\\nThe Number of Suspected Fradulent Activity on your Account is -{self.check_for_fraud()}\\n\\n')\n",
    "                \n",
    "        else:\n",
    "            print(\"Thank you for banking with us.\")\n",
    "    #getting personal details\n",
    "    def create_account(self):\n",
    "        first_name = input('Enter First Name ').title()\n",
    "        if first_name == \"\":\n",
    "            print(\"\\n Invalid Name. \\n\")\n",
    "            return\n",
    "        last_name = input('Enter Last Name ').title()\n",
    "        if last_name == \"\":\n",
    "            print(\"\\n Invalid Name. \\n\")\n",
    "            return\n",
    "        middle_name = input('Enter Middle Name ').title()\n",
    "        if middle_name == \"\":\n",
    "            print(\"\\n Invalid Name. \\n\")\n",
    "            return\n",
    "        try:\n",
    "            age = int(input('Enter Age '))\n",
    "            if age < 18:\n",
    "                print(\"You are not old enough to create an account.\")\n",
    "        except ValueError:\n",
    "            print(\"\\n Invalid age. \\n\")\n",
    "            return\n",
    "        gender = input('Enter Gender \\n(M, F or Other): ').upper()\n",
    "        if (gender !=\"M\") and (gender !=\"F\") and (gender != \"OTHER\"):\n",
    "            print(\"Enter a valid gender\")\n",
    "            return\n",
    "        account_balance = 0\n",
    "        transaction = [] \n",
    "        pin = input(\"Create a 4-digit PIN \")\n",
    "        confirm_pin = input(\"Confirm PIN \")\n",
    "        if pin != confirm_pin:\n",
    "            print(\"\\n Inconsistent PIN. \\n\")\n",
    "            return\n",
    "        if len(pin) != 4 and len(confirm_pin) != 4:\n",
    "            print(\"\\n Invalid PIN \\n\")\n",
    "            return\n",
    "        new_account = BankAccount(first_name, last_name,middle_name,age,gender,pin,confirm_pin)\n",
    "        account_number = self.account_number()\n",
    "        self.accounts[account_number] = new_account\n",
    "        print(f\"Welcome, {first_name}. Your account number is {account_number}.\")\n",
    "#         with open('account_information.txt','a') as acc:\n",
    "#             acc.write(f'{last_name} {first_name} {middle_name} {age} {gender} {account_balance} {account_number} {transaction}\\n') \n",
    "            \n",
    "    #Generating account number \n",
    "    def account_number(self):\n",
    "        import random \n",
    "        account_no = ''\n",
    "        for i in range(9):\n",
    "            num =random.randint(0,9)\n",
    "            account_no += str(num)\n",
    "        return account_no\n",
    "#A method that takes the account number and the amount to be deposited\n",
    "    def deposit(self):\n",
    "        account_number = input(\"Enter your account number: \")\n",
    "        amount = float(input(\"Enter an amount: \"))\n",
    "        if account_number not in self.accounts.keys():\n",
    "            print(\"\\n Account number not available. \\n\")\n",
    "            return\n",
    "        account = self.accounts[account_number]\n",
    "        account.deposit(amount)\n",
    "#A method that takes the account number and the amount to be withdrawn and an authorization pin\n",
    "    def withdraw(self):\n",
    "        account_number = input(\"Enter your account number: \")\n",
    "        amount = float(input(\"Enter an amount: \"))\n",
    "        withdraw_pin = input(\"Enter your pin: \")\n",
    "        if account_number not in self.accounts.keys():\n",
    "            print(\"\\n Account number not available. \\n\")\n",
    "            return\n",
    "        account = self.accounts[account_number]\n",
    "        if withdraw_pin != account.pin:\n",
    "            print(\"\\n Inavlid PIN \\n\")\n",
    "            return\n",
    "        balance = account.get_balance()\n",
    "        if amount > balance:\n",
    "            print(\"\\n INSUFFICIENT FUNDS. \\n\")\n",
    "            return\n",
    "        account.withdraw(amount)\n",
    "#A method that takes the account number and check for fradulent activity by calling the fradulent account method\n",
    "    def check_for_fraud(self):\n",
    "        account_number = input(\"Enter your account number: \")\n",
    "        if account_number not in self.accounts.keys():\n",
    "            print(\"\\n Account number not available. \\n\")\n",
    "            return\n",
    "        account = self.accounts[account_number]\n",
    "        return account.fraudulent_alert(account.transaction)\n",
    "        "
   ]
  },
  {
   "cell_type": "code",
   "execution_count": 20,
   "id": "146480c5-fefa-411c-9ce2-1b4a8233e857",
   "metadata": {},
   "outputs": [],
   "source": [
    "### A function that takes in a bank transaction file and returns the number of time fradulent transaction has been suspected to be on it and also the suspected transactions\n",
    "def fradulent_check(filename):\n",
    "    filename = filename+'.txt'\n",
    "    with open(filename) as file:\n",
    "        detail = {}\n",
    "        new_lst = []\n",
    "        for line in file:\n",
    "            account_no = line.strip().split(',')[1]\n",
    "            items = line.strip().split(',')[3:]\n",
    "            items_n = [int(item) for item in items]\n",
    "            detail[account_no] = fraudulent_alert(items_n)\n",
    "\n",
    "\n",
    "\n",
    "\n",
    "    return detail         #print(type(items))"
   ]
  },
  {
   "cell_type": "code",
   "execution_count": 21,
   "id": "fab21de7-45d2-4ad7-91c7-c89bddc7169f",
   "metadata": {},
   "outputs": [],
   "source": [
    "b = Bank()"
   ]
  },
  {
   "cell_type": "code",
   "execution_count": null,
   "id": "4987f296-b7ae-4fb0-aee6-b1efff640700",
   "metadata": {},
   "outputs": [
    {
     "name": "stdout",
     "output_type": "stream",
     "text": [
      " 1. Create an Account \n",
      " 2. Deposits \n",
      " 3. Withdrawals \n",
      " 4. Get balance\n",
      " 5. Exit \n",
      " 6. Fraud Check \n",
      "\n",
      "{}\n"
     ]
    },
    {
     "name": "stdin",
     "output_type": "stream",
     "text": [
      "Enter option: 1\n"
     ]
    },
    {
     "name": "stdout",
     "output_type": "stream",
     "text": [
      "Create account!!\n"
     ]
    },
    {
     "name": "stdin",
     "output_type": "stream",
     "text": [
      "Enter First Name  sedf\n",
      "Enter Last Name  sdfg\n",
      "Enter Middle Name  df\n",
      "Enter Age  24\n",
      "Enter Gender \n",
      "(M, F or Other):  M\n",
      "Create a 4-digit PIN  2001\n",
      "Confirm PIN  2001\n"
     ]
    },
    {
     "name": "stdout",
     "output_type": "stream",
     "text": [
      "Welcome, Sedf. Your account number is 505871805.\n",
      " 1. Create an Account \n",
      " 2. Deposits \n",
      " 3. Withdrawals \n",
      " 4. Get balance\n",
      " 5. Exit \n",
      " 6. Fraud Check \n",
      "\n",
      "{'505871805':  Sedf -Account Balance-- 0, Withdrawals - []}\n"
     ]
    },
    {
     "name": "stdin",
     "output_type": "stream",
     "text": [
      "Enter option: 2\n",
      "Enter your account number:  505871805\n",
      "Enter an amount:  20000\n"
     ]
    },
    {
     "name": "stdout",
     "output_type": "stream",
     "text": [
      " 1. Create an Account \n",
      " 2. Deposits \n",
      " 3. Withdrawals \n",
      " 4. Get balance\n",
      " 5. Exit \n",
      " 6. Fraud Check \n",
      "\n",
      "{'505871805':  Sedf -Account Balance-- 20000.0, Withdrawals - []}\n"
     ]
    },
    {
     "name": "stdin",
     "output_type": "stream",
     "text": [
      "Enter option: 3\n",
      "Enter your account number:  505871805\n"
     ]
    }
   ],
   "source": [
    "b.bank_operations()"
   ]
  },
  {
   "cell_type": "code",
   "execution_count": 12,
   "id": "5eaeb772-b9cd-455f-a7e7-0566e61fcf92",
   "metadata": {},
   "outputs": [
    {
     "ename": "TypeError",
     "evalue": "'float' object cannot be interpreted as an integer",
     "output_type": "error",
     "traceback": [
      "\u001b[0;31m---------------------------------------------------------------------------\u001b[0m",
      "\u001b[0;31mTypeError\u001b[0m                                 Traceback (most recent call last)",
      "\u001b[0;32m/tmp/ipykernel_9776/1327007261.py\u001b[0m in \u001b[0;36m<module>\u001b[0;34m\u001b[0m\n\u001b[0;32m----> 1\u001b[0;31m \u001b[0mbucket\u001b[0m \u001b[0;34m=\u001b[0m \u001b[0;34m[\u001b[0m\u001b[0;36m0\u001b[0m \u001b[0;32mfor\u001b[0m \u001b[0mi\u001b[0m \u001b[0;32min\u001b[0m \u001b[0mrange\u001b[0m\u001b[0;34m(\u001b[0m\u001b[0;36m10.0\u001b[0m\u001b[0;34m+\u001b[0m\u001b[0;36m1.0\u001b[0m\u001b[0;34m)\u001b[0m\u001b[0;34m]\u001b[0m\u001b[0;34m\u001b[0m\u001b[0;34m\u001b[0m\u001b[0m\n\u001b[0m",
      "\u001b[0;31mTypeError\u001b[0m: 'float' object cannot be interpreted as an integer"
     ]
    }
   ],
   "source": [
    "bucket = [0 for i in range(10.0+1.0)]"
   ]
  },
  {
   "cell_type": "code",
   "execution_count": null,
   "id": "bc6d449c-5f16-4a89-b047-f53a50127388",
   "metadata": {},
   "outputs": [],
   "source": []
  }
 ],
 "metadata": {
  "kernelspec": {
   "display_name": "Python 3 (ipykernel)",
   "language": "python",
   "name": "python3"
  },
  "language_info": {
   "codemirror_mode": {
    "name": "ipython",
    "version": 3
   },
   "file_extension": ".py",
   "mimetype": "text/x-python",
   "name": "python",
   "nbconvert_exporter": "python",
   "pygments_lexer": "ipython3",
   "version": "3.9.12"
  }
 },
 "nbformat": 4,
 "nbformat_minor": 5
}
